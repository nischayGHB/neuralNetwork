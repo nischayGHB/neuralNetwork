{
  "nbformat": 4,
  "nbformat_minor": 0,
  "metadata": {
    "colab": {
      "provenance": []
    },
    "kernelspec": {
      "name": "python3",
      "display_name": "Python 3"
    },
    "language_info": {
      "name": "python"
    }
  },
  "cells": [
    {
      "cell_type": "code",
      "execution_count": 1,
      "metadata": {
        "id": "blEa2JWXSx-9"
      },
      "outputs": [],
      "source": [
        "import numpy as np"
      ]
    },
    {
      "cell_type": "code",
      "source": [
        "def sigmoid(X): return 1/(1+np.exp(-X)) \n",
        "def sigmoid_dy(X): return X*(1-X)\n",
        "def feed_forward(X,w,b):\n",
        "    return sigmoid(np.dot(X,w) + b)\n",
        "def neural_network(\n",
        "    X, \n",
        "    y, \n",
        "    layer,\n",
        "    epochs,\n",
        "    _alpha\n",
        "):\n",
        "    \"\"\"\n",
        "        X     : input data\n",
        "        y     : output data\n",
        "        layer : a list containing information about number of neurons in each layer\n",
        "        epochs: number of iterations to approach convergence\n",
        "        _alpha: learning rate , Note that usualy kept of range ~ [0.01,0.04)\n",
        "        n     : number of layers\n",
        "        w     : weights container\n",
        "        b     : biases container\n",
        "    \"\"\"\n",
        "    X     = np.array(X)\n",
        "    y     = np.array(y)\n",
        "    n     = len(layer)\n",
        "    w     = [0]*(n-1)\n",
        "    b     = [0]*(n-1)\n",
        "    for i in range(1,n):\n",
        "        w[i-1] = np.random.uniform(size=(layer[i-1],layer[i]))\n",
        "        b[i-1] = np.random.uniform(size=(1,layer[i]))\n",
        "    for _ in range(epochs):\n",
        "        output = [0]*(n-1) \n",
        "        output[0] = feed_forward(X,w[0],b[0])\n",
        "        for i in range(1,n-1):\n",
        "            output[i] = feed_forward(output[i-1],w[i],b[i])\n",
        "        del_out = [0]*(n-1)\n",
        "        del_out[n-2]  = (y-output[n-2])*sigmoid_dy(output[n-2])\n",
        "        for i in range(n-3,-1,-1):\n",
        "            del_out[i] = del_out[i+1].dot(w[i+1].T)*sigmoid_dy(output[i])\n",
        "        for i in range(n-2,0,-1):\n",
        "            w[i] += output[i-1].T.dot(del_out[i])*_alpha\n",
        "            b[i] += np.sum(del_out[i],axis=0)*_alpha \n",
        "        w[0] += X.T.dot(del_out[0])*_alpha\n",
        "        b[0] += np.sum(del_out[0],axis=0)*_alpha\n",
        "    return w,b"
      ],
      "metadata": {
        "id": "m01YqxpBS7tI"
      },
      "execution_count": 2,
      "outputs": []
    },
    {
      "cell_type": "code",
      "source": [
        "X = [[1,0,1]] \n",
        "y = [[1]]\n",
        "layer = [3,2,1]\n",
        "\n",
        "epochs= int(1e6 + 10)\n",
        "_alpha= 0.01 \n",
        "n     = len(layer)\n",
        "w     = [0]*(n-1)\n",
        "b     = [0]*(n-1)\n",
        "w,b = neural_network(X,y,layer,epochs,_alpha)\n",
        "\n",
        "H1 = feed_forward(X,w[0],b[0])\n",
        "O = feed_forward(H1,w[1],b[1])\n",
        "print(O)"
      ],
      "metadata": {
        "colab": {
          "base_uri": "https://localhost:8080/"
        },
        "id": "x14KaD2FwWDw",
        "outputId": "37625192-2c06-4f50-e12b-b2ab83337cd0"
      },
      "execution_count": 3,
      "outputs": [
        {
          "output_type": "stream",
          "name": "stdout",
          "text": [
            "[[0.99566861]]\n"
          ]
        }
      ]
    }
  ]
}
